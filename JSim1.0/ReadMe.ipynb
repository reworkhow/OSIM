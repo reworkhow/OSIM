{
 "metadata": {
  "language": "Julia",
  "name": "",
  "signature": "sha256:c4c73c0eafd17a30c33bef7ace2a6ecf3ba8f287664298da757483a66075ff2d"
 },
 "nbformat": 3,
 "nbformat_minor": 0,
 "worksheets": [
  {
   "cells": [
    {
     "cell_type": "markdown",
     "metadata": {},
     "source": [
      ">JSim0.0\n",
      "\n",
      "The original JSim with CPOS implemented and no mutations.\n",
      "\n",
      "\n",
      ">JSim1.0\n",
      "\n",
      "It is optimized to speed up.\n",
      "The sampleMyPos and getMyHaps functions has been splitted into sampleOnePos and getOneHap to consider DRY principle."
     ]
    },
    {
     "cell_type": "markdown",
     "metadata": {},
     "source": [
      ">How to make it efficient?\n",
      "\n",
      "####in JSim1.0\n",
      "\n",
      "- for tempPos and tempOri, keep them with a constant size, assign numbers to elments of these arrays instead of push new elements to these two array\n",
      "- make tempPos and tempOri global variables instead of local variables which need to be recreated every time\n",
      "- use while loops to compare loci instead of .< abs .>"
     ]
    }
   ],
   "metadata": {}
  }
 ]
}