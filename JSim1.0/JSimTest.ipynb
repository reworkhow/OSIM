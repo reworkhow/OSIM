{
 "metadata": {
  "language": "Julia",
  "name": "",
  "signature": "sha256:b19b7b1912e19ce5200c304d75744bb68059a83ffafcfabd05ebc74c1828562d"
 },
 "nbformat": 3,
 "nbformat_minor": 0,
 "worksheets": [
  {
   "cells": [
    {
     "cell_type": "code",
     "collapsed": false,
     "input": [
      "include (\"../COSim.jl\")\n",
      "using COSim"
     ],
     "language": "python",
     "metadata": {},
     "outputs": [
      {
       "output_type": "stream",
       "stream": "stderr",
       "text": [
        "Warning: replacing module COSim\n"
       ]
      }
     ],
     "prompt_number": 8
    },
    {
     "cell_type": "code",
     "collapsed": false,
     "input": [
      "chrLength = 1.0\n",
      "numChr    = 1\n",
      "numLoci   = 10\n",
      "mutRate   = 0.0\n",
      "locusInt  = chrLength/numLoci\n",
      "mapPos   = [0:locusInt:(chrLength-0.0001)]\n",
      "geneFreq = fill(0.5,numLoci)\n",
      "\n",
      "COSim.init(numChr,numLoci,chrLength,geneFreq,mapPos,mutRate) # init COSim"
     ],
     "language": "python",
     "metadata": {},
     "outputs": [],
     "prompt_number": 9
    },
    {
     "cell_type": "code",
     "collapsed": false,
     "input": [
      "jsim1 = COSim.startPop() \n",
      "nothing"
     ],
     "language": "python",
     "metadata": {},
     "outputs": [],
     "prompt_number": 10
    },
    {
     "cell_type": "code",
     "collapsed": false,
     "input": [
      "ngen    = 1000\n",
      "popSize = 1000\n",
      "@time jsim1.popSample(ngen,popSize)"
     ],
     "language": "python",
     "metadata": {},
     "outputs": []
    },
    {
     "cell_type": "code",
     "collapsed": false,
     "input": [
      "M = jsim1.getGenotypes(); nothing\n",
      "using PyPlot\n",
      "p = mean(M,1)/2.0\n",
      "PyPlot.plt.hist(p',20); nothing"
     ],
     "language": "python",
     "metadata": {},
     "outputs": []
    },
    {
     "cell_type": "code",
     "collapsed": false,
     "input": [
      "Profile.clear()\n",
      "@profile jsim1.popSample(ngen,popSize)\n",
      "Profile.print()"
     ],
     "language": "python",
     "metadata": {},
     "outputs": [],
     "prompt_number": 10
    }
   ],
   "metadata": {}
  }
 ]
}