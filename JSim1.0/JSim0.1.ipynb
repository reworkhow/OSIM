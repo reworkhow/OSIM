{
 "metadata": {
  "language": "Julia",
  "name": "",
  "signature": "sha256:bde7c94ed42bc0d6f89cdf48d13a1bfa3a57dd9902c73c2e174175b7cd5060ad"
 },
 "nbformat": 3,
 "nbformat_minor": 0,
 "worksheets": [
  {
   "cells": [
    {
     "cell_type": "heading",
     "level": 1,
     "metadata": {},
     "source": [
      "Crossover Position and Origin Simulator (CPOS) "
     ]
    },
    {
     "cell_type": "heading",
     "level": 2,
     "metadata": {},
     "source": [
      "Types and Methods for Information on the Genome"
     ]
    },
    {
     "cell_type": "code",
     "collapsed": false,
     "input": [
      "type LocusInfo\n",
      "    map_pos::Float64\n",
      "    allele_freq::Array\n",
      "end\n",
      "\n",
      "function get_num_alleles(my)\n",
      "    return length(my.allele_freq)\n",
      "end"
     ],
     "language": "python",
     "metadata": {},
     "outputs": [
      {
       "metadata": {},
       "output_type": "pyout",
       "prompt_number": 1,
       "text": [
        "get_num_alleles (generic function with 1 method)"
       ]
      }
     ],
     "prompt_number": 1
    },
    {
     "cell_type": "code",
     "collapsed": false,
     "input": [
      "type ChromesomeInfo \n",
      "    chrLength::Float64\n",
      "    numLoci::Int64\n",
      "    mapPos::Array{Float64,1}\n",
      "    loci::Array{LocusInfo,1}\n",
      "end"
     ],
     "language": "python",
     "metadata": {},
     "outputs": [],
     "prompt_number": 2
    },
    {
     "cell_type": "code",
     "collapsed": false,
     "input": [
      "function set_num_loci(my,n::Int64)\n",
      "    my.numLoci=n; nothing\n",
      "end\n",
      "\n",
      "function get_num_loci(my)\n",
      "    return my.numLoci\n",
      "end"
     ],
     "language": "python",
     "metadata": {},
     "outputs": [
      {
       "metadata": {},
       "output_type": "pyout",
       "prompt_number": 3,
       "text": [
        "get_num_loci (generic function with 1 method)"
       ]
      }
     ],
     "prompt_number": 3
    },
    {
     "cell_type": "code",
     "collapsed": false,
     "input": [
      "function mk_mappos_from_locus_info(my)\n",
      "    my.mapPos.resize(my.chrLength)\n",
      "    for i in 1:my.chrLength\n",
      "        my.mapPos[i]=my.locus[i].map_pos\n",
      "    end\n",
      "end"
     ],
     "language": "python",
     "metadata": {},
     "outputs": [
      {
       "metadata": {},
       "output_type": "pyout",
       "prompt_number": 4,
       "text": [
        "mk_mappos_from_locus_info (generic function with 1 method)"
       ]
      }
     ],
     "prompt_number": 4
    },
    {
     "cell_type": "code",
     "collapsed": false,
     "input": [
      "type GenomeInfo\n",
      "    chr::Array{ChromesomeInfo,1}\n",
      "    numChrom::Int64\n",
      "    mutRate::Float64\n",
      "end"
     ],
     "language": "python",
     "metadata": {},
     "outputs": [],
     "prompt_number": 5
    },
    {
     "cell_type": "code",
     "collapsed": false,
     "input": [
      "function set_num_chrom(my,n::Int64)\n",
      "    my.numChrom=n; nothing\n",
      "end\n",
      "\n",
      "function get_num_chrom(my)\n",
      "    return my.numChrom\n",
      "end\n",
      "\n",
      "function make_map_pos(my)\n",
      "    for i in 1:my.numChrom\n",
      "        mk_mappos_from_locus_info(my.chr[i])\n",
      "    end\n",
      "    mapPosDone = true\n",
      "end"
     ],
     "language": "python",
     "metadata": {},
     "outputs": [
      {
       "metadata": {},
       "output_type": "pyout",
       "prompt_number": 6,
       "text": [
        "make_map_pos (generic function with 1 method)"
       ]
      }
     ],
     "prompt_number": 6
    },
    {
     "cell_type": "heading",
     "level": 2,
     "metadata": {},
     "source": [
      "Types and Methods for Simulating Genotypes of Animals"
     ]
    },
    {
     "cell_type": "heading",
     "level": 3,
     "metadata": {},
     "source": [
      "Hierarchical types"
     ]
    },
    {
     "cell_type": "code",
     "collapsed": false,
     "input": [
      "type Chromesome\n",
      "    haplotype::Array{Int64,1}\n",
      "    ori::Array{Int64,1}\n",
      "    pos::Array{Float64,1}\n",
      "end"
     ],
     "language": "python",
     "metadata": {},
     "outputs": [],
     "prompt_number": 7
    },
    {
     "cell_type": "code",
     "collapsed": false,
     "input": [
      "type Animal\n",
      "    genomePat::Array{Chromesome,1}\n",
      "    genomeMat::Array{Chromesome,1}\n",
      "    myID::Int64\n",
      "    sireID::Int64\n",
      "    damID::Int64\n",
      "end"
     ],
     "language": "python",
     "metadata": {},
     "outputs": [],
     "prompt_number": 8
    },
    {
     "cell_type": "code",
     "collapsed": false,
     "input": [
      "type Cohort\n",
      "    animalCohort::Array{Animal,1}\n",
      "    npMatrix::Array{Int64,2}\n",
      "end"
     ],
     "language": "python",
     "metadata": {},
     "outputs": [],
     "prompt_number": 9
    },
    {
     "cell_type": "heading",
     "level": 3,
     "metadata": {},
     "source": [
      "Global type"
     ]
    },
    {
     "cell_type": "code",
     "collapsed": false,
     "input": [
      "type CommonToAnimals           #MAKE IT A GLOBAL VARIABLE???\n",
      "    founders::Array{Animal,1}\n",
      "    G::GenomeInfo\n",
      "    countChromesome::Int64\n",
      "    countId::Int64\n",
      "end"
     ],
     "language": "python",
     "metadata": {},
     "outputs": [],
     "prompt_number": 10
    },
    {
     "cell_type": "heading",
     "level": 3,
     "metadata": {},
     "source": [
      "Sample Founders"
     ]
    },
    {
     "cell_type": "markdown",
     "metadata": {},
     "source": [
      ">animal level"
     ]
    },
    {
     "cell_type": "code",
     "collapsed": false,
     "input": [
      "function sampleFounder(common::CommonToAnimals)\n",
      "    my=Animal(Array(Chromesome,0),Array(Chromesome,0),0,0,0)\n",
      "    my.sireID = 0\n",
      "    my.damID = 0\n",
      "    my.myID = common.countId\n",
      "    common.countId += 1\n",
      "    \n",
      "    numberChromosomePair=get_num_chrom(common.G) \n",
      "    Base.resize!(my.genomePat,numberChromosomePair)\n",
      "    Base.resize!(my.genomeMat,numberChromosomePair)\n",
      "    \n",
      "    initFounderPosOri(my,common)\n",
      "    initFounderHaps(my,common)\n",
      "    \n",
      "    return(my)\n",
      "end"
     ],
     "language": "python",
     "metadata": {},
     "outputs": [
      {
       "metadata": {},
       "output_type": "pyout",
       "prompt_number": 11,
       "text": [
        "sampleFounder (generic function with 1 method)"
       ]
      }
     ],
     "prompt_number": 11
    },
    {
     "cell_type": "code",
     "collapsed": false,
     "input": [
      "function initFounderPosOri(my::Animal,common::CommonToAnimals)\n",
      "    numberChromosomePair=get_num_chrom(common.G)\n",
      "    \n",
      "    for i in 1:numberChromosomePair\n",
      "           \n",
      "        my.genomePat[i]=Chromesome(Array(Int64,0),Array(Int64,1),Array(Float64,1))       \n",
      "        my.genomePat[i].ori=[common.countChromesome]\n",
      "        my.genomePat[i].pos=[0.0]\n",
      "\n",
      "        my.genomeMat[i]=Chromesome(Array(Int64,0),Array(Int64,1),Array(Float64,1)) \n",
      "        my.genomeMat[i].ori=[common.countChromesome+1]\n",
      "        my.genomeMat[i].pos=[0.0]\n",
      "\n",
      "    end\n",
      "    \n",
      "    common.countChromesome += 2\n",
      "end\n",
      "    \n",
      "    "
     ],
     "language": "python",
     "metadata": {},
     "outputs": [
      {
       "metadata": {},
       "output_type": "pyout",
       "prompt_number": 12,
       "text": [
        "initFounderPosOri (generic function with 1 method)"
       ]
      }
     ],
     "prompt_number": 12
    },
    {
     "cell_type": "markdown",
     "metadata": {},
     "source": [
      "Another way (no difference in computation)"
     ]
    },
    {
     "cell_type": "code",
     "collapsed": false,
     "input": [
      "function initFounderPosOri_alt(my::Animal,common::CommonToAnimals)\n",
      "    numberChromosomePair=get_num_chrom(common.G)\n",
      "    \n",
      "    for i in 1:numberChromosomePair\n",
      "           \n",
      "        ori1=[common.countChromesome]\n",
      "        pos1=[0.0]\n",
      "\n",
      "        my.genomePat[i]=Chromesome(Array(Int64,0),ori1,pos1)\n",
      "\n",
      "        ori2=[common.countChromesome+1]\n",
      "        pos2=[0.0]\n",
      "\n",
      "        my.genomeMat[i]=Chromesome(Array(Int64,0),ori1,pos2)\n",
      "\n",
      "\n",
      "    end\n",
      "    \n",
      "    common.countChromesome += 2\n",
      "end\n",
      "    \n",
      "    "
     ],
     "language": "python",
     "metadata": {},
     "outputs": [
      {
       "metadata": {},
       "output_type": "pyout",
       "prompt_number": 13,
       "text": [
        "initFounderPosOri_alt (generic function with 1 method)"
       ]
      }
     ],
     "prompt_number": 13
    },
    {
     "cell_type": "code",
     "collapsed": false,
     "input": [
      "function initFounderHaps(my::Animal,common::CommonToAnimals)\n",
      "   \n",
      "    numberChromosomePair=get_num_chrom(common.G)\n",
      "    \n",
      "    for i in 1:numberChromosomePair\n",
      "        \n",
      "        numLoci=common.G.chr[i].numLoci\n",
      "        \n",
      "        Base.resize!(my.genomePat[i].haplotype,numLoci)\n",
      "        Base.resize!(my.genomeMat[i].haplotype,numLoci)\n",
      "\n",
      "        for j in 1:numLoci\n",
      "            p=common.G.chr[i].loci[j].allele_freq[1]\n",
      "            my.genomePat[i].haplotype[j]=rand(Bernoulli(p))\n",
      "            my.genomeMat[i].haplotype[j]=rand(Bernoulli(p))\n",
      "        end\n",
      "    end   \n",
      "end    "
     ],
     "language": "python",
     "metadata": {},
     "outputs": [
      {
       "metadata": {},
       "output_type": "pyout",
       "prompt_number": 14,
       "text": [
        "initFounderHaps (generic function with 1 method)"
       ]
      }
     ],
     "prompt_number": 14
    },
    {
     "cell_type": "markdown",
     "metadata": {},
     "source": [
      ">cohort level"
     ]
    },
    {
     "cell_type": "code",
     "collapsed": false,
     "input": [
      "function sampleFounders(numAnimals::Int64,common::CommonToAnimals)\n",
      "    my=Cohort(Array(Animal,0),Array(Int64,0,0))\n",
      "    \n",
      "    println(\"Sampling\",numAnimals,\" animals into base population.\")\n",
      "    resize!(my.animalCohort,numAnimals)\n",
      "    resize!(common.founders,numAnimals)\n",
      "\n",
      "    \n",
      "    for i in 1:numAnimals\n",
      "        animal=sampleFounder(common)\n",
      "        my.animalCohort[i]=animal\n",
      "        common.founders[i]=animal\n",
      "    end\n",
      "    \n",
      "    return(my)\n",
      "end  "
     ],
     "language": "python",
     "metadata": {},
     "outputs": [
      {
       "metadata": {},
       "output_type": "pyout",
       "prompt_number": 15,
       "text": [
        "sampleFounders (generic function with 1 method)"
       ]
      }
     ],
     "prompt_number": 15
    },
    {
     "cell_type": "heading",
     "level": 3,
     "metadata": {},
     "source": [
      "sample nonFounders"
     ]
    },
    {
     "cell_type": "markdown",
     "metadata": {},
     "source": [
      ">animal level"
     ]
    },
    {
     "cell_type": "code",
     "collapsed": false,
     "input": [
      "function sampleNonFounder(father::Animal,mother::Animal,common::CommonToAnimals)\n",
      "    my=Animal(Array(Chromesome,0),Array(Chromesome,0),0,0,0)\n",
      "    my.sireID = father.myID\n",
      "    my.damID = mother.myID\n",
      "    my.myID=common.countId\n",
      "    common.countId=common.countId+1            \n",
      "    \n",
      "    numberChromosomePair=get_num_chrom(common.G) \n",
      "    resize!(my.genomePat,numberChromosomePair)\n",
      "    resize!(my.genomeMat,numberChromosomePair)\n",
      "\n",
      "    sampleMyPosOri(my,father,mother,common)\n",
      "    return(my)\n",
      "end"
     ],
     "language": "python",
     "metadata": {},
     "outputs": [
      {
       "metadata": {},
       "output_type": "pyout",
       "prompt_number": 16,
       "text": [
        "sampleNonFounder (generic function with 1 method)"
       ]
      }
     ],
     "prompt_number": 16
    },
    {
     "cell_type": "code",
     "collapsed": false,
     "input": [
      "rec=[5,1,3,4,4,5]\n",
      "unique(rec)\n",
      "rec"
     ],
     "language": "python",
     "metadata": {},
     "outputs": [
      {
       "metadata": {},
       "output_type": "pyout",
       "prompt_number": 17,
       "text": [
        "6-element Array{Int64,1}:\n",
        " 5\n",
        " 1\n",
        " 3\n",
        " 4\n",
        " 4\n",
        " 5"
       ]
      }
     ],
     "prompt_number": 17
    },
    {
     "cell_type": "code",
     "collapsed": false,
     "input": [
      "function sampleMyPosOri(my::Animal,father::Animal,mother::Animal,common::CommonToAnimals)\n",
      "    numberChromosomePair=get_num_chrom(common.G)\n",
      "    \n",
      "    println(\"My mother is \", mother)\n",
      "    println(\"My father is \", father)\n",
      "    \n",
      "    #for paternal chromesome   \n",
      "    for i in 1:numberChromosomePair\n",
      "        \n",
      "        my.genomePat[i]=Chromesome(Array(Int64,0),Array(Int64,1),Array(Float64,1))       \n",
      "\n",
      "        \n",
      "        tempPos=Array(Float64,0)\n",
      "        tempOri=Array(Int64,0)\n",
      "        currentFatherChrom=(rand(Bernoulli(0.5))==1)?father.genomePat[i]:father.genomeMat[i]\n",
      "        \n",
      "        chrLength=common.G.chr[i].chrLength\n",
      "        \n",
      "        binomialN=chrLength*3+1\n",
      "        numCrossover=rand(Binomial(binomialN,chrLength/binomialN))\n",
      "        rec=[0.0]\n",
      "                \n",
      "        for irec in 1:numCrossover\n",
      "            push!(rec,chrLength*rand(1)[1])\n",
      "        end\n",
      "        \n",
      "        push!(rec,chrLength)\n",
      "        sort!(rec)                #rec is like 0,0.23,0.45,0.76,1\n",
      "        \n",
      "        println(\"rec= \",rec)\n",
      "        \n",
      "        for j in 1:(length(rec)-1)\n",
      "            choose= rec[j].<=currentFatherChrom.pos .< rec[j+1]\n",
      "            tempPos=vcat(tempPos,currentFatherChrom.pos[choose])\n",
      "            tempOri=vcat(tempOri,currentFatherChrom.ori[choose])\n",
      "            \n",
      "            println(i)\n",
      "            println(currentFatherChrom)\n",
      "            println(father.genomeMat[i])\n",
      "            println(currentFatherChrom==father.genomeMat[i])\n",
      "            currentFatherChrom=(currentFatherChrom==father.genomeMat[i])?father.genomePat[i]:father.genomeMat[i]\n",
      "            \n",
      "            findRecOri=sum(currentFatherChrom.pos .< rec[j+1]) \n",
      "            tempPos=vcat(tempPos,rec[j+1])\n",
      "            tempOri=vcat(tempOri,currentFatherChrom.ori[findRecOri])\n",
      "        end\n",
      "        \n",
      "        pop!(tempPos) #remove the last one which is the end of the chromesome\n",
      "        pop!(tempOri)\n",
      "        println(\"tempPos= \",tempPos)\n",
      "        println(\"tempOri= \",tempOri)        \n",
      "        ##merging of nearby same ori;not sure whether more effcient\n",
      "        tempPos=[tempPos[1],tempPos[2:end][convert(BitArray{1},diff(tempOri))]]\n",
      "        tempOri=[tempOri[1],tempOri[2:end][convert(BitArray{1},diff(tempOri))]]        \n",
      "              \n",
      "        resize!(my.genomePat[i].pos,length(tempPos))#not sure resize need or not\n",
      "        resize!(my.genomePat[i].ori,length(tempOri))\n",
      "        my.genomePat[i].pos=tempPos       #RLF: Don't you need to use copy here??? All chromosomes may be the same!\n",
      "        my.genomePat[i].ori=tempOri       \n",
      "\n",
      "    end\n",
      "    \n",
      "    \n",
      "    #for maternal chromesome\n",
      "    for i in 1:numberChromosomePair\n",
      "        \n",
      "        my.genomeMat[i]=Chromesome(Array(Int64,0),Array(Int64,1),Array(Float64,1))       \n",
      "        \n",
      "        tempPos=Array(Float64,0)\n",
      "        tempOri=Array(Int64,0)\n",
      "        currentMotherChrom=(rand(Bernoulli(0.5))==1)?mother.genomePat[i]:mother.genomeMat[i]\n",
      "        \n",
      "        chrLength=common.G.chr[i].chrLength\n",
      "        binomialN=chrLength*3+1\n",
      "        numCrossover=rand(Binomial(binomialN,chrLength/binomialN))\n",
      "        rec=[0.0]\n",
      "                \n",
      "        for irec in 1:numCrossover\n",
      "            push!(rec,chrLength*rand(1)[1])\n",
      "        end\n",
      "        \n",
      "        push!(rec,chrLength)\n",
      "        sort!(rec)#rec is like 0,0.23,0.45,0.76,1\n",
      "              \n",
      "        for j in 1:(length(rec)-1)\n",
      "            choose= rec[j].<=currentMotherChrom.pos .< rec[j+1]\n",
      "            tempPos=vcat(tempPos,currentMotherChrom.pos[choose])\n",
      "            tempOri=vcat(tempOri,currentMotherChrom.ori[choose])\n",
      "            \n",
      "            currentMotherChrom=(currentMotherChrom==mother.genomeMat[i])?mother.genomePat[i]:mother.genomeMat[i]\n",
      "            \n",
      "            findRecOri=sum(currentMotherChrom.pos .< rec[j+1]) \n",
      "            tempPos=vcat(tempPos,rec[j+1])\n",
      "            tempOri=vcat(tempOri,currentMotherChrom.ori[findRecOri])\n",
      "        end\n",
      "        \n",
      "        pop!(tempPos) #remove the last one which is the end of the chromesome\n",
      "        pop!(tempOri)\n",
      "        println(\"tempPos= \",tempPos)\n",
      "        println(\"tempOri= \",tempOri)\n",
      "        tempPos=[tempPos[1],tempPos[2:end][convert(BitArray{1},diff(tempOri))]]\n",
      "        tempOri=[tempOri[1],tempOri[2:end][convert(BitArray{1},diff(tempOri))]]\n",
      "\n",
      "        resize!(my.genomeMat[i].pos,length(tempPos))\n",
      "        resize!(my.genomeMat[i].ori,length(tempOri))\n",
      "        my.genomeMat[i].pos=tempPos\n",
      "        my.genomeMat[i].ori=tempOri   \n",
      "\n",
      "    end    \n",
      "end      "
     ],
     "language": "python",
     "metadata": {},
     "outputs": []
    },
    {
     "cell_type": "markdown",
     "metadata": {},
     "source": [
      ">cohort level"
     ]
    },
    {
     "cell_type": "code",
     "collapsed": false,
     "input": [
      "function getRandomInd(my::Cohort)\n",
      "    cohortSize=length(my.animalCohort)\n",
      "    thisOne=rand(1:cohortSize)    \n",
      "    return(my.animalCohort[thisOne])\n",
      "end"
     ],
     "language": "python",
     "metadata": {},
     "outputs": [
      {
       "metadata": {},
       "output_type": "pyout",
       "prompt_number": 19,
       "text": [
        "getRandomInd (generic function with 1 method)"
       ]
      }
     ],
     "prompt_number": 19
    },
    {
     "cell_type": "code",
     "collapsed": false,
     "input": [
      "function sampleChildren(fathers::Cohort,mothers::Cohort,numAnimals::Int64,common::CommonToAnimals)\n",
      "    my=Cohort(Array(Animal,0),Array(Int64,0,0))\n",
      "    \n",
      "    println(\"Sampling\",numAnimals,\" animals into next generation.\")\n",
      "    resize!(my.animalCohort,numAnimals)\n",
      "    \n",
      "    for i in 1:numAnimals\n",
      "        println(\"Sampling animal: \",i)\n",
      "        animal=sampleNonFounder(getRandomInd(fathers),getRandomInd(mothers),common::CommonToAnimals)\n",
      "        my.animalCohort[i]=animal\n",
      "    end\n",
      "    \n",
      "    return(my)\n",
      "end  "
     ],
     "language": "python",
     "metadata": {},
     "outputs": [
      {
       "metadata": {},
       "output_type": "pyout",
       "prompt_number": 20,
       "text": [
        "sampleChildren (generic function with 1 method)"
       ]
      }
     ],
     "prompt_number": 20
    },
    {
     "cell_type": "heading",
     "level": 2,
     "metadata": {},
     "source": [
      "Genotyping Individauls we want"
     ]
    },
    {
     "cell_type": "code",
     "collapsed": false,
     "input": [
      "function getMyHaps(my::Animal,common::CommonToAnimals)\n",
      "    numberChromosomePair=get_num_chrom(common.G)\n",
      "\n",
      "    for i in 1:numberChromosomePair\n",
      "        numLoci=common.G.chr[i].numLoci    \n",
      "        resize!(my.genomePat[i].haplotype,numLoci)\n",
      "        resize!(my.genomeMat[i].haplotype,numLoci)   \n",
      "        \n",
      "        \n",
      "        numOriPat=length(my.genomePat[i].ori)\n",
      "        push!(my.genomePat[i].pos,common.G.chr[i].chrLength)#this may make it not efficient\n",
      "        \n",
      "        for segment in 1:numOriPat\n",
      "            whichFounder=iceil(my.genomePat[i].ori[segment]/2)\n",
      "            genomePatorMatInThisFounder=(my.genomePat[i].ori[segment]%2==0)?common.founders[whichFounder].genomeMat[i]:common.founders[whichFounder].genomePat[i]\n",
      "            choose = my.genomePat[i].pos[segment] .<= common.G.chr[i].mapPos .< my.genomePat[i].pos[segment+1]\n",
      "            my.genomePat[i].haplotype[choose]=genomePatorMatInThisFounder.haplotype[choose]\n",
      "        end\n",
      "        \n",
      "        pop!(my.genomePat[i].pos)\n",
      "\n",
      "\n",
      "        \n",
      "        numOriMat=length(my.genomeMat[i].ori)\n",
      "        push!(my.genomeMat[i].pos,common.G.chr[i].chrLength)#this may make it not efficient\n",
      "\n",
      "        \n",
      "        for segment in 1:numOriMat\n",
      "            whichFounder=iceil(my.genomeMat[i].ori[segment]/2)\n",
      "            genomePatorMatInThisFounder=(my.genomeMat[i].ori[segment]%2==0)?common.founders[whichFounder].genomeMat[i]:common.founders[whichFounder].genomePat[i]\n",
      "            choose = my.genomeMat[i].pos[segment] .<= common.G.chr[i].mapPos .< my.genomeMat[i].pos[segment+1]\n",
      "            my.genomeMat[i].haplotype[choose]=genomePatorMatInThisFounder.haplotype[choose]\n",
      "        end        \n",
      "\n",
      "        pop!(my.genomeMat[i].pos)\n",
      "\n",
      "    end   \n",
      "end    "
     ],
     "language": "python",
     "metadata": {},
     "outputs": [
      {
       "metadata": {},
       "output_type": "pyout",
       "prompt_number": 21,
       "text": [
        "getMyHaps (generic function with 1 method)"
       ]
      }
     ],
     "prompt_number": 21
    },
    {
     "cell_type": "code",
     "collapsed": false,
     "input": [
      "function printMyHaps(my::Animal,common::CommonToAnimals)\n",
      "    numberChromosomePair=get_num_chrom(common.G)\n",
      "    println(\"I'm an animal with ID( \", my.myID,\" ) and sire( \", my.sireID, \" ) and dam( \", my.damID,\" )\")\n",
      "\n",
      "    for i in 1:numberChromosomePair\n",
      "        println(my.genomePat[i].haplotype)        \n",
      "        println(my.genomePat[i].pos)\n",
      "        println(my.genomeMat[i].haplotype)\n",
      "        println(my.genomeMat[i].pos)\n",
      "    end\n",
      "end"
     ],
     "language": "python",
     "metadata": {},
     "outputs": [
      {
       "metadata": {},
       "output_type": "pyout",
       "prompt_number": 22,
       "text": [
        "printMyHaps (generic function with 1 method)"
       ]
      }
     ],
     "prompt_number": 22
    },
    {
     "cell_type": "code",
     "collapsed": false,
     "input": [
      "function getOurHaps(my::Cohort,common::CommonToAnimals)\n",
      "    for i in my.animalCohort\n",
      "        getMyHaps(i,common)\n",
      "    end\n",
      "end "
     ],
     "language": "python",
     "metadata": {},
     "outputs": [
      {
       "metadata": {},
       "output_type": "pyout",
       "prompt_number": 23,
       "text": [
        "getOurHaps (generic function with 1 method)"
       ]
      }
     ],
     "prompt_number": 23
    },
    {
     "cell_type": "code",
     "collapsed": false,
     "input": [
      "function printOurHaps(my::Cohort,common::CommonToAnimals)\n",
      "    for i in my.animalCohort\n",
      "        printMyHaps(i,common)\n",
      "    end\n",
      "end     "
     ],
     "language": "python",
     "metadata": {},
     "outputs": [
      {
       "metadata": {},
       "output_type": "pyout",
       "prompt_number": 24,
       "text": [
        "printOurHaps (generic function with 1 method)"
       ]
      }
     ],
     "prompt_number": 24
    },
    {
     "cell_type": "heading",
     "level": 2,
     "metadata": {},
     "source": [
      "Let's run it!!!"
     ]
    },
    {
     "cell_type": "markdown",
     "metadata": {},
     "source": [
      "> run it !!!"
     ]
    },
    {
     "cell_type": "code",
     "collapsed": false,
     "input": [
      "using(Distributions)\n",
      "\n",
      "#create genome\n",
      "numChr=1\n",
      "numLoci=10\n",
      "chrLength=1.0\n",
      "MapPos=[0.1,0.2,0.3,0.4,0.5,0.6,0.7,0.8,0.9,0.95] #not work if pos at endpoint\n",
      "\n",
      "locus_array=Array(LocusInfo,10)\n",
      "for i in 1:10\n",
      "    locus_array[i]=LocusInfo(MapPos[i],[0.5,0.5])\n",
      "end\n",
      "\n",
      "chromesome=ChromesomeInfo(chrLength,numLoci,MapPos,locus_array)\n",
      "G = GenomeInfo([chromesome],1,0.0)\n",
      "\n",
      "#create common\n",
      "common=CommonToAnimals(Array(Animal,0),G,0,0)  #Is making it zero the best???\n",
      "common.countId = 1\n",
      "common.countChromesome= 1\n",
      "common\n",
      "\n",
      "#sample founders\n",
      "pop1=sampleFounders(10,common)\n",
      "\n",
      "println(common.founders)\n",
      "pop2=sampleChildren(pop1,pop1,10,common)\n",
      "\n",
      "getOurHaps(pop2,common)\n",
      "printOurHaps(pop2,common)\n",
      "println(\"Done\")"
     ],
     "language": "python",
     "metadata": {},
     "outputs": [
      {
       "output_type": "stream",
       "stream": "stdout",
       "text": [
        "Sampling10"
       ]
      },
      {
       "output_type": "stream",
       "stream": "stdout",
       "text": [
        " animals into base population.\n"
       ]
      },
      {
       "output_type": "stream",
       "stream": "stdout",
       "text": [
        "[Animal("
       ]
      },
      {
       "output_type": "stream",
       "stream": "stdout",
       "text": [
        "[Chromesome([0,0,0,0,1,1,0,0,1,0],[1],[0.0])],[Chromesome([1,0,1,0,0,0,1,0,1,0],[2],[0.0])],1,0,0),Animal([Chromesome([1,0,1,0,0,0,0,0,1,1],[3],[0.0])],[Chromesome([1,1,0,0,1,1,1,0,1,0],[4],[0.0])],2,0,0),Animal([Chromesome([0,1,1,0,0,0,1,1,0,0],[5],[0.0])],[Chromesome([0,0,1,1,1,1,0,0,1,0],[6],[0.0])],3,0,0),Animal([Chromesome([1,0,0,0,1,1,0,0,1,1],[7],[0.0])],[Chromesome([1,1,1,0,0,0,0,0,0,1],[8],[0.0])],4,0,0),Animal([Chromesome([0,1,0,1,0,1,0,1,1,0],[9],[0.0])],[Chromesome([1,1,0,0,0,0,0,1,0,0],[10],[0.0])],5,0,0),Animal([Chromesome([1,0,1,0,0,0,1,0,1,1],[11],[0.0])],[Chromesome([0,1,0,1,1,0,0,0,1,1],[12],[0.0])],6,0,0),Animal([Chromesome([0,0,1,1,1,1,1,0,0,0],[13],[0.0])],[Chromesome([0,1,1,0,1,0,0,1,0,0],[14],[0.0])],7,0,0),Animal([Chromesome([0,0,0,0,1,0,0,1,1,0],[15],[0.0])],[Chromesome([1,1,0,1,1,1,1,0,0,0],[16],[0.0])],8,0,0),Animal([Chromesome([1,1,1,0,1,0,0,0,0,0],[17],[0.0])],[Chromesome([1,1,0,0,1,0,0,1,0,1],[18],[0.0])],9,0,0),Animal([Chromesome([1,0,1,0,1,1,0,0,1,0],[19],[0.0])],[Chromesome([1,1,1,0,1,0,0,0,1,1],[20],[0.0])],10,0,0)]\n",
        "Sampling"
       ]
      },
      {
       "output_type": "stream",
       "stream": "stdout",
       "text": [
        "10 animals into next generation.\n",
        "Sampling animal: 1\n",
        "My mother is Animal([Chromesome([1,1,1,0,1,0,0,0,0,0],[17],[0.0])],[Chromesome([1,1,0,0,1,0,0,1,0,1],[18],[0.0])],9,0,0)\n",
        "My father is Animal([Chromesome([1,1,1,0,1,0,0,0,0,0],[17],[0.0])],[Chromesome([1,1,0,0,1,0,0,1,0,1],[18],[0.0])],9,0,0)\n",
        "rec= [0.0,1.0]\n",
        "1\n",
        "Chromesome([1,1,0,0,1,0,0,1,0,1],[18],[0.0])\n",
        "Chromesome([1,1,0,0,1,0,0,1,0,1],[18],[0.0])\n",
        "true\n",
        "tempPos= "
       ]
      },
      {
       "output_type": "stream",
       "stream": "stdout",
       "text": [
        "[0.0]\n",
        "tempOri= [18]\n",
        "tempPos= "
       ]
      },
      {
       "output_type": "stream",
       "stream": "stdout",
       "text": [
        "[0.0]\n",
        "tempOri= [18]\n",
        "Sampling animal: 2\n",
        "My mother is Animal([Chromesome([0,1,0,1,0,1,0,1,1,0],[9],[0.0])],[Chromesome([1,1,0,0,0,0,0,1,0,0],[10],[0.0])],5,0,0)\n",
        "My father is Animal([Chromesome([1,1,1,0,1,0,0,0,0,0],[17],[0.0])],[Chromesome([1,1,0,0,1,0,0,1,0,1],[18],[0.0])],9,0,0)\n",
        "rec= [0.0,0.9897419021767764,1.0]\n",
        "1\n",
        "Chromesome([1,1,1,0,1,0,0,0,0,0],[17],[0.0])\n",
        "Chromesome([1,1,0,0,1,0,0,1,0,1],[18],[0.0])\n",
        "false\n",
        "1\n",
        "Chromesome([1,1,0,0,1,0,0,1,0,1],[18],[0.0])\n",
        "Chromesome([1,1,0,0,1,0,0,1,0,1],[18],[0.0])\n",
        "true\n",
        "tempPos= [0.0,0.9897419021767764]\n",
        "tempOri= [17,18]\n",
        "tempPos= [0.0,0.6228433966799936,0.9402745092154814]\n",
        "tempOri= [10,9,10]\n",
        "Sampling animal: 3\n",
        "My mother is Animal([Chromesome([1,0,1,0,1,1,0,0,1,0],[19],[0.0])],[Chromesome([1,1,1,0,1,0,0,0,1,1],[20],[0.0])],10,0,0)\n",
        "My father is Animal([Chromesome([1,1,1,0,1,0,0,0,0,0],[17],[0.0])],[Chromesome([1,1,0,0,1,0,0,1,0,1],[18],[0.0])],9,0,0)\n",
        "rec= [0.0,1.0]\n",
        "1\n",
        "Chromesome([1,1,1,0,1,0,0,0,0,0],[17],[0.0])\n",
        "Chromesome([1,1,0,0,1,0,0,1,0,1],[18],[0.0])\n",
        "false\n",
        "tempPos= [0.0]\n",
        "tempOri= [17]\n",
        "tempPos= [0.0,0.9503046184983606]\n",
        "tempOri= [19,20]\n",
        "Sampling animal: 4\n",
        "My mother is Animal([Chromesome([1,0,1,0,0,0,1,0,1,1],[11],[0.0])],[Chromesome([0,1,0,1,1,0,0,0,1,1],[12],[0.0])],6,0,0)\n",
        "My father is Animal([Chromesome([0,0,0,0,1,1,0,0,1,0],[1],[0.0])],[Chromesome([1,0,1,0,0,0,1,0,1,0],[2],[0.0])],1,0,0)\n",
        "rec= [0.0,0.5732717058602415,1.0]\n",
        "1\n",
        "Chromesome([0,0,0,0,1,1,0,0,1,0],[1],[0.0])\n",
        "Chromesome([1,0,1,0,0,0,1,0,1,0],[2],[0.0])\n",
        "false\n",
        "1\n",
        "Chromesome([1,0,1,0,0,0,1,0,1,0],[2],[0.0])\n",
        "Chromesome([1,0,1,0,0,0,1,0,1,0],[2],[0.0])\n",
        "true\n",
        "tempPos= [0.0,0.5732717058602415]\n",
        "tempOri= [1,2]\n",
        "tempPos= [0.0]\n",
        "tempOri= [11]\n",
        "Sampling animal: 5\n",
        "My mother is Animal([Chromesome([0,1,1,0,0,0,1,1,0,0],[5],[0.0])],[Chromesome([0,0,1,1,1,1,0,0,1,0],[6],[0.0])],3,0,0)\n",
        "My father is Animal([Chromesome([1,0,0,0,1,1,0,0,1,1],[7],[0.0])],[Chromesome([1,1,1,0,0,0,0,0,0,1],[8],[0.0])],4,0,0)\n",
        "rec= [0.0,0.27706958767443024,0.6986334822938554,1.0]\n",
        "1\n",
        "Chromesome([1,1,1,0,0,0,0,0,0,1],[8],[0.0])\n",
        "Chromesome([1,1,1,0,0,0,0,0,0,1],[8],[0.0])\n",
        "true\n",
        "1\n",
        "Chromesome([1,0,0,0,1,1,0,0,1,1],[7],[0.0])\n",
        "Chromesome([1,1,1,0,0,0,0,0,0,1],[8],[0.0])\n",
        "false\n",
        "1\n",
        "Chromesome([1,1,1,0,0,0,0,0,0,1],[8],[0.0])\n",
        "Chromesome([1,1,1,0,0,0,0,0,0,1],[8],[0.0])\n",
        "true\n",
        "tempPos= [0.0,0.27706958767443024,0.6986334822938554]\n",
        "tempOri= [8,7,8]\n",
        "tempPos= [0.0,0.6319451904201603]\n",
        "tempOri= [6,5]\n",
        "Sampling animal: 6\n",
        "My mother is Animal([Chromesome([1,0,1,0,0,0,0,0,1,1],[3],[0.0])],[Chromesome([1,1,0,0,1,1,1,0,1,0],[4],[0.0])],2,0,0)\n",
        "My father is Animal([Chromesome([0,1,0,1,0,1,0,1,1,0],[9],[0.0])],[Chromesome([1,1,0,0,0,0,0,1,0,0],[10],[0.0])],5,0,0)\n",
        "rec= [0.0,0.9376422200129364,1.0]\n",
        "1\n",
        "Chromesome([0,1,0,1,0,1,0,1,1,0],[9],[0.0])\n",
        "Chromesome([1,1,0,0,0,0,0,1,0,0],[10],[0.0])\n",
        "false\n",
        "1\n",
        "Chromesome([1,1,0,0,0,0,0,1,0,0],[10],[0.0])\n",
        "Chromesome([1,1,0,0,0,0,0,1,0,0],[10],[0.0])\n",
        "true\n",
        "tempPos= [0.0,0.9376422200129364]\n",
        "tempOri= [9,10]\n",
        "tempPos= [0.0,0.2887806819252807]\n",
        "tempOri= [4,3]\n",
        "Sampling animal: 7\n",
        "My mother is Animal([Chromesome([0,0,0,0,1,0,0,1,1,0],[15],[0.0])],[Chromesome([1,1,0,1,1,1,1,0,0,0],[16],[0.0])],8,0,0)\n",
        "My father is Animal([Chromesome([0,0,0,0,1,0,0,1,1,0],[15],[0.0])],[Chromesome([1,1,0,1,1,1,1,0,0,0],[16],[0.0])],8,0,0)\n",
        "rec= [0.0,0.016442113579715034,0.062173734981006534,1.0]\n",
        "1\n",
        "Chromesome([0,0,0,0,1,0,0,1,1,0],[15],[0.0])\n",
        "Chromesome([1,1,0,1,1,1,1,0,0,0],[16],[0.0])\n",
        "false\n",
        "1\n",
        "Chromesome([1,1,0,1,1,1,1,0,0,0],[16],[0.0])\n",
        "Chromesome([1,1,0,1,1,1,1,0,0,0],[16],[0.0])\n",
        "true\n",
        "1\n",
        "Chromesome([0,0,0,0,1,0,0,1,1,0],[15],[0.0])\n",
        "Chromesome([1,1,0,1,1,1,1,0,0,0],[16],[0.0])\n",
        "false\n",
        "tempPos= [0.0,0.016442113579715034,0.062173734981006534]\n",
        "tempOri= [15,16,15]\n",
        "tempPos= [0.0]\n",
        "tempOri= [15]\n",
        "Sampling animal: 8\n",
        "My mother is Animal([Chromesome([0,1,0,1,0,1,0,1,1,0],[9],[0.0])],[Chromesome([1,1,0,0,0,0,0,1,0,0],[10],[0.0])],5,0,0)\n",
        "My father is Animal([Chromesome([0,0,0,0,1,0,0,1,1,0],[15],[0.0])],[Chromesome([1,1,0,1,1,1,1,0,0,0],[16],[0.0])],8,0,0)\n",
        "rec= [0.0,1.0]\n",
        "1\n",
        "Chromesome([1,1,0,1,1,1,1,0,0,0],[16],[0.0])\n",
        "Chromesome([1,1,0,1,1,1,1,0,0,0],[16],[0.0])\n",
        "true\n",
        "tempPos= [0.0]\n",
        "tempOri= [16]\n",
        "tempPos= [0.0,0.48918251356967946]\n",
        "tempOri= [10,9]\n",
        "Sampling animal: 9\n",
        "My mother is Animal([Chromesome([1,0,1,0,0,0,1,0,1,1],[11],[0.0])],[Chromesome([0,1,0,1,1,0,0,0,1,1],[12],[0.0])],6,0,0)\n",
        "My father is Animal([Chromesome([1,1,1,0,1,0,0,0,0,0],[17],[0.0])],[Chromesome([1,1,0,0,1,0,0,1,0,1],[18],[0.0])],9,0,0)\n",
        "rec= [0.0,1.0]\n",
        "1\n",
        "Chromesome([1,1,0,0,1,0,0,1,0,1],[18],[0.0])\n",
        "Chromesome([1,1,0,0,1,0,0,1,0,1],[18],[0.0])\n",
        "true\n",
        "tempPos= [0.0]\n",
        "tempOri= [18]\n",
        "tempPos= [0.0,0.6577866333252864,0.741849618782598]\n",
        "tempOri= [12,11,12]\n",
        "Sampling animal: 10\n",
        "My mother is Animal([Chromesome([0,1,0,1,0,1,0,1,1,0],[9],[0.0])],[Chromesome([1,1,0,0,0,0,0,1,0,0],[10],[0.0])],5,0,0)\n",
        "My father is Animal([Chromesome([0,0,1,1,1,1,1,0,0,0],[13],[0.0])],[Chromesome([0,1,1,0,1,0,0,1,0,0],[14],[0.0])],7,0,0)\n",
        "rec= [0.0,0.22799188820292238,0.34305803625430764,1.0]\n",
        "1\n",
        "Chromesome([0,1,1,0,1,0,0,1,0,0],[14],[0.0])\n",
        "Chromesome([0,1,1,0,1,0,0,1,0,0],[14],[0.0])\n",
        "true\n",
        "1\n",
        "Chromesome([0,0,1,1,1,1,1,0,0,0],[13],[0.0])\n",
        "Chromesome([0,1,1,0,1,0,0,1,0,0],[14],[0.0])\n",
        "false\n",
        "1\n",
        "Chromesome([0,1,1,0,1,0,0,1,0,0],[14],[0.0])\n",
        "Chromesome([0,1,1,0,1,0,0,1,0,0],[14],[0.0])\n",
        "true\n",
        "tempPos= [0.0,0.22799188820292238,0.34305803625430764]\n",
        "tempOri= [14,13,14]\n",
        "tempPos= [0.0,0.16606190973728152,0.4366919977952699,0.7430354349872341]\n",
        "tempOri= [9,10,9,10]\n",
        "I'm an animal with ID( "
       ]
      },
      {
       "output_type": "stream",
       "stream": "stdout",
       "text": [
        "11 ) and sire( 9 ) and dam( 9 )\n",
        "[1,1,0,0,1,0,0,1,0,1]\n",
        "[0.0]\n",
        "[1,1,0,0,1,0,0,1,0,1]\n",
        "[0.0]\n",
        "I'm an animal with ID( 12 ) and sire( 9 ) and dam( 5 )\n",
        "[1,1,1,0,1,0,0,0,0,0]\n",
        "[0.0,0.9897419021767764]\n",
        "[1,1,0,0,0,0,0,1,1,0]\n",
        "[0.0,0.6228433966799936,0.9402745092154814]\n",
        "I'm an animal with ID( 13 ) and sire( 9 ) and dam( 10 )\n",
        "[1,1,1,0,1,0,0,0,0,0]\n",
        "[0.0]\n",
        "[1,0,1,0,1,1,0,0,1,0]\n",
        "[0.0,0.9503046184983606]\n",
        "I'm an animal with ID( 14 ) and sire( 1 ) and dam( 6 )\n",
        "[0,0,0,0,1,0,1,0,1,0]\n",
        "[0.0,0.5732717058602415]\n",
        "[1,0,1,0,0,0,1,0,1,1]\n",
        "[0.0]\n",
        "I'm an animal with ID( 15 ) and sire( 4 ) and dam( 3 )\n",
        "[1,1,0,0,1,1,0,0,0,1]\n",
        "[0.0,0.27706958767443024,0.6986334822938554]\n",
        "[0,0,1,1,1,1,1,1,0,0]\n",
        "[0.0,0.6319451904201603]\n",
        "I'm an animal with ID( 16 ) and sire( 5 ) and dam( 2 )\n",
        "[0,1,0,1,0,1,0,1,1,0]\n",
        "[0.0,0.9376422200129364]\n",
        "[1,1,1,0,0,0,0,0,1,1]\n",
        "[0.0,0.2887806819252807]\n",
        "I'm an animal with ID( 17 ) and sire( 8 ) and dam( 8 )\n",
        "[0,0,0,0,1,0,0,1,1,0]\n",
        "[0.0,0.016442113579715034,0.062173734981006534]\n",
        "[0,0,0,0,1,0,0,1,1,0]\n",
        "[0.0]\n",
        "I'm an animal with ID( 18 ) and sire( 8 ) and dam( 5 )\n",
        "[1,1,0,1,1,1,1,0,0,0]\n",
        "[0.0]\n",
        "[1,1,0,0,0,1,0,1,1,0]\n",
        "[0.0,0.48918251356967946]\n",
        "I'm an animal with ID( 19 ) and sire( 9 ) and dam( 6 )\n",
        "[1,1,0,0,1,0,0,1,0,1]\n",
        "[0.0]\n",
        "[0,1,0,1,1,0,1,0,1,1]\n",
        "[0.0,0.6577866333252864,0.741849618782598]\n",
        "I'm an animal with ID( 20 ) and sire( 7 ) and dam( 5 )\n",
        "[0,1,1,0,1,0,0,1,0,0]\n",
        "[0.0,0.22799188820292238,0.34305803625430764]\n",
        "[0,1,0,0,0,1,0,1,0,0]\n",
        "[0.0,0.16606190973728152,0.4366919977952699,0.7430354349872341]\n",
        "Done\n"
       ]
      }
     ],
     "prompt_number": 25
    },
    {
     "cell_type": "heading",
     "level": 2,
     "metadata": {},
     "source": [
      "important error"
     ]
    },
    {
     "cell_type": "code",
     "collapsed": false,
     "input": [
      "##I need to declare everything in this way !! Tedious!!!\n",
      "##ERROR: access to undefined reference\n",
      "my=Animal(Array(Chromesome,0),Array(Chromesome,0),0,0,0)\n",
      "\n",
      "Base.resize!(my.genomePat,1)\n",
      "\n",
      "#(1)\n",
      "#ch =Chromesome([1,2,1],[1],[0.3])\n",
      "#my.genomePat[1]=ch                 #works\n",
      "#(2)\n",
      "#my.genomePat[1].ori=Array(Int64,1) #not work\n",
      "#(3)\n",
      "#my.genomePat[1].ori=[2]            #not work\n",
      "#(4)\n",
      "#my.genomePat[1]=Chromesome(Array(Int64,1),Array(Int64,1),Array(Float64,1))\n",
      "#my.genomePat[1].ori=[2]            #work  "
     ],
     "language": "python",
     "metadata": {},
     "outputs": [
      {
       "metadata": {},
       "output_type": "pyout",
       "prompt_number": 26,
       "text": [
        "1-element Array{Chromesome,1}:\n",
        " #undef"
       ]
      }
     ],
     "prompt_number": 26
    }
   ],
   "metadata": {}
  }
 ]
}