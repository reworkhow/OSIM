{
 "metadata": {
  "language": "Julia",
  "name": "",
  "signature": "sha256:e0e4e05ce28bd916df1e3c20804ca34065ad10ed82a2e7dd0ff2e37da766282a"
 },
 "nbformat": 3,
 "nbformat_minor": 0,
 "worksheets": [
  {
   "cells": [
    {
     "cell_type": "heading",
     "level": 6,
     "metadata": {},
     "source": [
      "SandBox"
     ]
    },
    {
     "cell_type": "code",
     "collapsed": false,
     "input": [
      "a=Array(Int64,1)\n",
      "#Base.resize!(a,2)\n",
      "#a[1]=2\n",
      "\n",
      "a=[1,2]\n",
      "b=[1,3]\n",
      "vcat(a,b)"
     ],
     "language": "python",
     "metadata": {},
     "outputs": [
      {
       "metadata": {},
       "output_type": "pyout",
       "prompt_number": 158,
       "text": [
        "3-element Array{Int64,1}:\n",
        " 1\n",
        " 2\n",
        " 1"
       ]
      }
     ],
     "prompt_number": 158
    },
    {
     "cell_type": "code",
     "collapsed": false,
     "input": [
      "a=[1.2,2.3,4.2,8.1]\n",
      "println(typeof(a))\n",
      "a=[1.2 2.3 4.2 8.1]\n",
      "println(typeof(a))"
     ],
     "language": "python",
     "metadata": {},
     "outputs": [
      {
       "output_type": "stream",
       "stream": "stdout",
       "text": [
        "Array{"
       ]
      },
      {
       "output_type": "stream",
       "stream": "stdout",
       "text": [
        "Float64,1}\n",
        "Array{Float64,2}\n"
       ]
      }
     ],
     "prompt_number": 83
    },
    {
     "cell_type": "code",
     "collapsed": false,
     "input": [
      "a=[1.2,2.3,4.2,8.1]\n",
      "haha= 1.5 .< a .< 8.0 \n",
      "ha = a.<3.6\n",
      "sum(ha)\n",
      "#length(haha)\n",
      "\n",
      "h = a.>10\n",
      "a[h]\n",
      "\n",
      "vcat(a,a[h],a[h])\n",
      "\n",
      "println(a)\n",
      "pop!(a)\n",
      "a"
     ],
     "language": "python",
     "metadata": {},
     "outputs": [
      {
       "output_type": "stream",
       "stream": "stdout",
       "text": [
        "[1"
       ]
      },
      {
       "output_type": "stream",
       "stream": "stdout",
       "text": [
        ".2,2.3,4.2,8.1]\n"
       ]
      },
      {
       "metadata": {},
       "output_type": "pyout",
       "prompt_number": 170,
       "text": [
        "3-element Array{Float64,1}:\n",
        " 1.2\n",
        " 2.3\n",
        " 4.2"
       ]
      }
     ],
     "prompt_number": 170
    },
    {
     "cell_type": "code",
     "collapsed": false,
     "input": [
      "\n",
      "a=[1,2]\n",
      "println(pointer(a))\n",
      "b=[2,3]\n",
      "println(pointer(b))\n",
      "\n",
      "a=vcat(a,b)\n",
      "println(a)\n",
      "println(pointer(a))\n",
      "\n",
      "a=vcat(a,b)\n",
      "println(a)\n",
      "println(pointer(a))\n",
      "\n",
      "\n",
      "b=a\n",
      "pointer(b)"
     ],
     "language": "python",
     "metadata": {},
     "outputs": [
      {
       "output_type": "stream",
       "stream": "stdout",
       "text": [
        "Ptr{"
       ]
      },
      {
       "output_type": "stream",
       "stream": "stdout",
       "text": [
        "Int64} @0x00007f8ae9476330\n",
        "Ptr{Int64} @0x00007f8ae948dcf0\n",
        "[1,2,2,3]\n",
        "Ptr{Int64} @0x00007f8ae947df90\n",
        "[1,2,2,3,2,3]\n",
        "Ptr{Int64} @0x00007f8ae8dad370\n"
       ]
      },
      {
       "metadata": {},
       "output_type": "pyout",
       "prompt_number": 116,
       "text": [
        "Ptr{Int64} @0x00007f8ae8dad370"
       ]
      }
     ],
     "prompt_number": 116
    },
    {
     "cell_type": "code",
     "collapsed": false,
     "input": [
      "tempOri=Array(Int64,0,0)"
     ],
     "language": "python",
     "metadata": {},
     "outputs": []
    },
    {
     "cell_type": "code",
     "collapsed": false,
     "input": [
      "a=[1,2,3]\n",
      "vcat(a,1)"
     ],
     "language": "python",
     "metadata": {},
     "outputs": [
      {
       "metadata": {},
       "output_type": "pyout",
       "prompt_number": 128,
       "text": [
        "4-element Array{Int64,1}:\n",
        " 1\n",
        " 2\n",
        " 3\n",
        " 1"
       ]
      }
     ],
     "prompt_number": 128
    },
    {
     "cell_type": "code",
     "collapsed": false,
     "input": [
      "a= (2>10)?10:15"
     ],
     "language": "python",
     "metadata": {},
     "outputs": [
      {
       "metadata": {},
       "output_type": "pyout",
       "prompt_number": 134,
       "text": [
        "15"
       ]
      }
     ],
     "prompt_number": 134
    },
    {
     "cell_type": "code",
     "collapsed": false,
     "input": [
      "type Hao1\n",
      "    book::Array{Int64,1}\n",
      "end\n",
      "\n",
      "hao=Hao1([1,2,3])\n",
      "\n",
      "\n",
      "ningBook=hao.book\n",
      "\n",
      "println(pointer_from_objref(hao.book))\n",
      "println(pointer_from_objref(ningBook))"
     ],
     "language": "python",
     "metadata": {},
     "outputs": [
      {
       "output_type": "stream",
       "stream": "stdout",
       "text": [
        "Ptr{Void} @0x00007f8aea53a0f0"
       ]
      },
      {
       "output_type": "stream",
       "stream": "stdout",
       "text": [
        "\n",
        "Ptr{Void} @0x00007f8aea53a0f0\n"
       ]
      }
     ],
     "prompt_number": 143
    },
    {
     "cell_type": "code",
     "collapsed": false,
     "input": [
      "a=[1,2,10,5]\n",
      "push!(a,4)\n",
      "sort(a)\n",
      "a"
     ],
     "language": "python",
     "metadata": {},
     "outputs": [
      {
       "metadata": {},
       "output_type": "pyout",
       "prompt_number": 156,
       "text": [
        "5-element Array{Int64,1}:\n",
        "  1\n",
        "  2\n",
        " 10\n",
        "  5\n",
        "  4"
       ]
      }
     ],
     "prompt_number": 156
    },
    {
     "cell_type": "code",
     "collapsed": false,
     "input": [
      "numAnimals=10\n",
      "println(\"Sampling \" ,numAnimals ,\" animals into base population.\")"
     ],
     "language": "python",
     "metadata": {},
     "outputs": [
      {
       "ename": "LoadError",
       "evalue": "syntax: missing comma or ) in argument list\nwhile loading In[179], in expression starting on line 2",
       "output_type": "pyerr",
       "traceback": [
        "syntax: missing comma or ) in argument list\nwhile loading In[179], in expression starting on line 2",
        ""
       ]
      }
     ],
     "prompt_number": 179
    },
    {
     "cell_type": "code",
     "collapsed": false,
     "input": [
      "function haha23()\n",
      "a999=[1,2,3]\n",
      "\n",
      "println(pointer(a999))\n",
      "    \n",
      "return a999\n",
      "end\n",
      "\n",
      "hao=haha23()\n",
      "pointer(hao)\n",
      "\n",
      "#If created inside, it will also return a reference, not copy"
     ],
     "language": "python",
     "metadata": {},
     "outputs": [
      {
       "output_type": "stream",
       "stream": "stdout",
       "text": [
        "Ptr{"
       ]
      },
      {
       "output_type": "stream",
       "stream": "stdout",
       "text": [
        "Int64} @0x00007fd947c45580\n"
       ]
      },
      {
       "ename": "LoadError",
       "evalue": "invalid redefinition of constant hao\nwhile loading In[67], in expression starting on line 9",
       "output_type": "pyerr",
       "traceback": [
        "invalid redefinition of constant hao\nwhile loading In[67], in expression starting on line 9",
        ""
       ]
      }
     ],
     "prompt_number": 67
    },
    {
     "cell_type": "code",
     "collapsed": false,
     "input": [
      "pointer(a909)"
     ],
     "language": "python",
     "metadata": {},
     "outputs": [
      {
       "metadata": {},
       "output_type": "pyout",
       "prompt_number": 198,
       "text": [
        "Ptr{Int64} @0x00007f8acccc5230"
       ]
      }
     ],
     "prompt_number": 198
    },
    {
     "cell_type": "code",
     "collapsed": false,
     "input": [
      "type TryStuff\n",
      "    a::Int64\n",
      "end\n",
      "function tt()\n",
      "    b=tryStuff.a+1\n",
      "    tryStuff.a = 3\n",
      "    return(b)\n",
      "end\n",
      "tryStuff = TryStuff(5)\n",
      "println(tt())\n",
      "println(tryStuff.a)"
     ],
     "language": "python",
     "metadata": {},
     "outputs": [
      {
       "output_type": "stream",
       "stream": "stdout",
       "text": [
        "6\n"
       ]
      },
      {
       "output_type": "stream",
       "stream": "stdout",
       "text": [
        "3\n"
       ]
      }
     ],
     "prompt_number": 1
    },
    {
     "cell_type": "code",
     "collapsed": false,
     "input": [
      "tryStuff = TryStuff(10)\n",
      "println(tt())\n",
      "println(tryStuff.a)"
     ],
     "language": "python",
     "metadata": {},
     "outputs": [
      {
       "output_type": "stream",
       "stream": "stdout",
       "text": [
        "11\n"
       ]
      },
      {
       "output_type": "stream",
       "stream": "stdout",
       "text": [
        "3\n"
       ]
      }
     ],
     "prompt_number": 2
    },
    {
     "cell_type": "code",
     "collapsed": false,
     "input": [
      "a = Array(TryStuff,0)"
     ],
     "language": "python",
     "metadata": {},
     "outputs": [
      {
       "metadata": {},
       "output_type": "pyout",
       "prompt_number": 7,
       "text": [
        "0-element Array{TryStuff,1}"
       ]
      }
     ],
     "prompt_number": 7
    },
    {
     "cell_type": "code",
     "collapsed": false,
     "input": [
      "x = TryStuff(9)\n",
      "push!(a,x)"
     ],
     "language": "python",
     "metadata": {},
     "outputs": [
      {
       "metadata": {},
       "output_type": "pyout",
       "prompt_number": 8,
       "text": [
        "1-element Array{TryStuff,1}:\n",
        " TryStuff(9)"
       ]
      }
     ],
     "prompt_number": 8
    },
    {
     "cell_type": "code",
     "collapsed": false,
     "input": [
      "push!(a,x)"
     ],
     "language": "python",
     "metadata": {},
     "outputs": [
      {
       "metadata": {},
       "output_type": "pyout",
       "prompt_number": 9,
       "text": [
        "2-element Array{TryStuff,1}:\n",
        " TryStuff(9)\n",
        " TryStuff(9)"
       ]
      }
     ],
     "prompt_number": 9
    },
    {
     "cell_type": "code",
     "collapsed": false,
     "input": [
      "type JSim\n",
      "    init::Function\n",
      "end"
     ],
     "language": "python",
     "metadata": {},
     "outputs": [],
     "prompt_number": 3
    },
    {
     "cell_type": "code",
     "collapsed": false,
     "input": [
      "function JSim(x,n)\n",
      "    a = Array(TryStuff,n)\n",
      "    function init()\n",
      "        a = fill(x,n)\n",
      "    end\n",
      "    res = JSim(init)\n",
      "    return (res)     \n",
      "end"
     ],
     "language": "python",
     "metadata": {},
     "outputs": [
      {
       "metadata": {},
       "output_type": "pyout",
       "prompt_number": 4,
       "text": [
        "JSim (constructor with 3 methods)"
       ]
      }
     ],
     "prompt_number": 4
    },
    {
     "cell_type": "code",
     "collapsed": false,
     "input": [
      "jsim = JSim(tryStuff,5)"
     ],
     "language": "python",
     "metadata": {},
     "outputs": [
      {
       "metadata": {},
       "output_type": "pyout",
       "prompt_number": 5,
       "text": [
        "JSim(init)"
       ]
      }
     ],
     "prompt_number": 5
    },
    {
     "cell_type": "code",
     "collapsed": false,
     "input": [
      "jsim.init()"
     ],
     "language": "python",
     "metadata": {},
     "outputs": [
      {
       "metadata": {},
       "output_type": "pyout",
       "prompt_number": 6,
       "text": [
        "5-element Array{TryStuff,1}:\n",
        " TryStuff(3)\n",
        " TryStuff(3)\n",
        " TryStuff(3)\n",
        " TryStuff(3)\n",
        " TryStuff(3)"
       ]
      }
     ],
     "prompt_number": 6
    },
    {
     "cell_type": "code",
     "collapsed": false,
     "input": [
      "a=[1,2,3]\n",
      "m=1\n",
      "while  m<=3 && a[m]<=4\n",
      "    println(a[m])\n",
      "    m=m+1\n",
      "end\n",
      "\n",
      "#while  a[m]<=4 && m<=3 \n",
      " #   println(a[m])\n",
      " #   m=m+1\n",
      "#end"
     ],
     "language": "python",
     "metadata": {},
     "outputs": [
      {
       "output_type": "stream",
       "stream": "stdout",
       "text": [
        "1\n"
       ]
      },
      {
       "output_type": "stream",
       "stream": "stdout",
       "text": [
        "2\n",
        "3\n"
       ]
      }
     ],
     "prompt_number": 10
    },
    {
     "cell_type": "code",
     "collapsed": false,
     "input": [
      "m=10\n",
      "\n",
      "for m in 1:3\n",
      "    println(m)\n",
      "end\n",
      "\n",
      "m"
     ],
     "language": "python",
     "metadata": {},
     "outputs": [
      {
       "output_type": "stream",
       "stream": "stdout",
       "text": [
        "1\n"
       ]
      },
      {
       "output_type": "stream",
       "stream": "stdout",
       "text": [
        "2\n",
        "3\n"
       ]
      },
      {
       "metadata": {},
       "output_type": "pyout",
       "prompt_number": 12,
       "text": [
        "3"
       ]
      }
     ],
     "prompt_number": 12
    },
    {
     "cell_type": "code",
     "collapsed": false,
     "input": [
      "i=10\n",
      "\n",
      "while i>3 && i<11\n",
      "    i=i-1\n",
      "    println(\"this is my \",i)\n",
      "end\n",
      "\n"
     ],
     "language": "python",
     "metadata": {},
     "outputs": [
      {
       "output_type": "stream",
       "stream": "stdout",
       "text": [
        "this is my 9"
       ]
      },
      {
       "output_type": "stream",
       "stream": "stdout",
       "text": [
        "\n",
        "this is my 8\n",
        "this is my 7\n",
        "this is my 6\n",
        "this is my 5\n",
        "this is my 4\n",
        "this is my 3\n"
       ]
      }
     ],
     "prompt_number": 7
    }
   ],
   "metadata": {}
  }
 ]
}