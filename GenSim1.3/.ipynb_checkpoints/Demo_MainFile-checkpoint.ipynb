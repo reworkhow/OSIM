{
 "metadata": {
  "name": "",
  "signature": "sha256:38ee80189d4dd824b0ddebf03d4e27a4ca139fb13ab4db8724928bad0801122c"
 },
 "nbformat": 3,
 "nbformat_minor": 0,
 "worksheets": [
  {
   "cells": [
    {
     "cell_type": "heading",
     "level": 4,
     "metadata": {},
     "source": [
      "This file shows several main file demos for different mating structures. "
     ]
    },
    {
     "cell_type": "markdown",
     "metadata": {},
     "source": [
      "**Scenario 1** : random mating for 10 generations for one population"
     ]
    },
    {
     "cell_type": "code",
     "collapsed": false,
     "input": [
      "%%file main.cpp\n",
      "//\n",
      "//  main.cpp\n",
      "//  OSIM\n",
      "//\n",
      "//  Created by Hao Cheng on 3/17/14.\n",
      "//  Copyright (c) 2014 Hao. All rights reserved.\n",
      "//\n",
      "\n",
      "#include <iostream>\n",
      "#include <fstream>\n",
      "#include \"cohort.h\"\n",
      "#include \"ComputaionTools.h\"\n",
      "#include \"SimPop.h\"\n",
      "#include \"global.h\"\n",
      "\n",
      "int main(int argc, const char * argv[])\n",
      "{   \n",
      "    unsigned nLoci   =  100;\n",
      "    unsigned nChrm   =  1;\n",
      "    double chrLength =  0.01;\n",
      "    unsigned popSize =  100;\n",
      "    unsigned nGen    =  10;\n",
      "    double   mutRate =  1e-5;\n",
      "\n",
      "    SimPop osim(nChrm,nLoci,chrLength,mutRate,\"\");\n",
      "    osim.popFounders(popSize,\"\",0);\n",
      "    osim.popSample(popSize,nGen);\n",
      "    MatrixXf out;\n",
      "    out=osim.getGenotypes();\n",
      "    ofstream outFile(\"/Users/erxingfangshui/genotype.example\");\n",
      "    outFile << out;\n",
      "    cout<<\"DONE\"<<endl;\n",
      "    return 0;\n",
      "}"
     ],
     "language": "python",
     "metadata": {},
     "outputs": [
      {
       "output_type": "stream",
       "stream": "stdout",
       "text": [
        "Overwriting main.cpp\n"
       ]
      }
     ],
     "prompt_number": 4
    },
    {
     "cell_type": "markdown",
     "metadata": {},
     "source": [
      "**Scenario 2** : random mating for 10 generations within 2 populations, then cross these 2 populations and random mating for 10 generations"
     ]
    },
    {
     "cell_type": "code",
     "collapsed": false,
     "input": [
      "%%file main.cpp\n",
      "//\n",
      "//  main.cpp\n",
      "//  OSIM\n",
      "//\n",
      "//  Created by Hao Cheng on 9/11/14.\n",
      "//  Copyright (c) 2014 Hao. All rights reserved.\n",
      "//\n",
      "\n",
      "#include <iostream>\n",
      "#include <fstream>\n",
      "#include \"cohort.h\"\n",
      "#include \"ComputaionTools.h\"\n",
      "#include \"SimPop.h\"\n",
      "#include \"global.h\"\n",
      "\n",
      "int main(int argc, const char * argv[])\n",
      "{   \n",
      "    unsigned nLoci   =  100;\n",
      "    unsigned nChrm   =  1;\n",
      "    double chrLength =  0.01;\n",
      "    unsigned popSize =  100;\n",
      "    unsigned nGen    =  10;\n",
      "    double   mutRate =  1e-5;\n",
      "\n",
      "    SimPop osim1(nChrm,nLoci,chrLength,mutRate,\"\");\n",
      "    SimPop osim2(nChrm,nLoci,chrLength,mutRate,\"\");\n",
      "    osim1.popFounders(popSize,\"\",0);\n",
      "    osim2.popFounders(popSize,\"\",0);\n",
      "\n",
      "    osim1.popSample(popSize,nGen);\n",
      "    osim2.popSample(popSize,nGen);\n",
      "      \n",
      "    SimPop osim3(nChrm,nLoci,chrLength,mutRate,\"\");\n",
      "    osim3.cross(osim1,osim2,popSize);\n",
      "    osim3.popSample(popSize/2,nGen);\n",
      "\n",
      "    MatrixXf out;\n",
      "    out=osim3.getGenotypes();\n",
      "    ofstream outFile(\"/Users/erxingfangshui/genotype.example\");\n",
      "    outFile << out;\n",
      "    cout<<\"DONE\"<<endl;\n",
      "    return 0;\n",
      "}"
     ],
     "language": "python",
     "metadata": {},
     "outputs": [
      {
       "output_type": "stream",
       "stream": "stdout",
       "text": [
        "Overwriting main.cpp\n"
       ]
      }
     ],
     "prompt_number": 15
    },
    {
     "cell_type": "markdown",
     "metadata": {},
     "source": [
      "**Scenario 3** : random mating for 10 generations for one population, then split it into 2 populations and random mating for 10 generations"
     ]
    },
    {
     "cell_type": "code",
     "collapsed": false,
     "input": [
      "%%file main.cpp\n",
      "//\n",
      "//  main.cpp\n",
      "//  OSIM\n",
      "//\n",
      "//  Created by Hao Cheng on 9/11/14.\n",
      "//  Copyright (c) 2014 Hao. All rights reserved.\n",
      "//\n",
      "\n",
      "#include <iostream>\n",
      "#include <fstream>\n",
      "#include \"cohort.h\"\n",
      "#include \"ComputaionTools.h\"\n",
      "#include \"SimPop.h\"\n",
      "#include \"global.h\"\n",
      "\n",
      "int main(int argc, const char * argv[])\n",
      "{   \n",
      "    unsigned nLoci   =  100;\n",
      "    unsigned nChrm   =  1;\n",
      "    double chrLength =  0.01;\n",
      "    unsigned popSize =  100;\n",
      "    unsigned nGen    =  10;\n",
      "    double   mutRate =  1e-5;\n",
      "\n",
      "    SimPop osim1(nChrm,nLoci,chrLength,mutRate,\"\");\n",
      "    osim1.popFounders(popSize,\"\",0);\n",
      "\n",
      "    osim1.popSample(popSize,nGen);\n",
      "    \n",
      "    SimPop osim2(nChrm,nLoci,chrLength,mutRate,\"\");\n",
      "    SimPop osim3(nChrm,nLoci,chrLength,mutRate,\"\");\n",
      "    \n",
      "    osim2.sub(osim1,popSize);\n",
      "    osim3.sub(osim1,popSize);\n",
      "\n",
      "    osim2.popSample(popSize,nGen);\n",
      "    osim3.popSample(popSize,nGen);\n",
      "    \n",
      "    MatrixXf out;\n",
      "    out=osim3.getGenotypes();\n",
      "    ofstream outFile(\"/Users/erxingfangshui/genotype.example\");\n",
      "    outFile << out;\n",
      "    cout<<\"DONE\"<<endl;\n",
      "    return 0;\n",
      "}"
     ],
     "language": "python",
     "metadata": {},
     "outputs": [
      {
       "output_type": "stream",
       "stream": "stdout",
       "text": [
        "Overwriting main.cpp\n"
       ]
      }
     ],
     "prompt_number": 1
    },
    {
     "cell_type": "code",
     "collapsed": false,
     "input": [
      "%%file  makeGenSim\n",
      "#############################################################################\n",
      "# Makefile for building: OSim\n",
      "\n",
      "INCPATH = -I/Users/erxingfangshui/Dropbox/CODE/eigen3 -I/Users/erxingfangshui/Dropbox/CODE/boost\n",
      "\n",
      "OSim:\tmain.o libGenSim.a\n",
      "\tg++ -o GenSim main.o libGenSim.a \n",
      "\n",
      "main.o: main.cpp \n",
      "\tg++ $(INCPATH) -c -o main.o main.cpp\n",
      "\n",
      "clean:\n",
      "\t\\rm main.o GenSim"
     ],
     "language": "python",
     "metadata": {},
     "outputs": [
      {
       "output_type": "stream",
       "stream": "stdout",
       "text": [
        "Overwriting makeGenSim\n"
       ]
      }
     ],
     "prompt_number": 2
    },
    {
     "cell_type": "code",
     "collapsed": false,
     "input": [
      "%%bash\n",
      "make -f makeGenSim "
     ],
     "language": "python",
     "metadata": {},
     "outputs": [
      {
       "output_type": "stream",
       "stream": "stdout",
       "text": [
        "g++ -I/Users/erxingfangshui/Dropbox/CODE/eigen3 -I/Users/erxingfangshui/Dropbox/CODE/boost -c -o main.o main.cpp\n",
        "g++ -o GenSim main.o libGenSim.a \n"
       ]
      },
      {
       "output_type": "stream",
       "stream": "stderr",
       "text": [
        "In file included from main.cpp:11:\n",
        "In file included from ./cohort.h:13:\n",
        "In file included from ./animal_class.h:22:\n",
        "./genome_info.h:55:14: warning: 'auto' type specifier is a C++11 extension [-Wc++11-extensions]\n",
        "        for( auto &i : *this){\n",
        "             ^\n",
        "./genome_info.h:55:22: warning: range-based for loop is a C++11 extension [-Wc++11-extensions]\n",
        "        for( auto &i : *this){\n",
        "                     ^\n",
        "2 warnings generated.\n"
       ]
      }
     ],
     "prompt_number": 3
    },
    {
     "cell_type": "code",
     "collapsed": false,
     "input": [
      "%%bash\n",
      "./GenSim"
     ],
     "language": "python",
     "metadata": {},
     "outputs": [
      {
       "output_type": "stream",
       "stream": "stdout",
       "text": [
        "Sampling 100 animals into base population.\n",
        "0\n",
        "2\n",
        "4\n",
        "6\n",
        "8\n",
        "10\n",
        "12\n",
        "14\n",
        "16\n",
        "18\n",
        "20\n",
        "22\n",
        "24\n",
        "26\n",
        "28\n",
        "30\n",
        "32\n",
        "34\n",
        "36\n",
        "38\n",
        "40\n",
        "42\n",
        "44\n",
        "46\n",
        "48\n",
        "50\n",
        "52\n",
        "54\n",
        "56\n",
        "58\n",
        "60\n",
        "62\n",
        "64\n",
        "66\n",
        "68\n",
        "70\n",
        "72\n",
        "74\n",
        "76\n",
        "78\n",
        "80\n",
        "82\n",
        "84\n",
        "86\n",
        "88\n",
        "90\n",
        "92\n",
        "94\n",
        "96\n",
        "98\n",
        "100\n",
        "102\n",
        "104\n",
        "106\n",
        "108\n",
        "110\n",
        "112\n",
        "114\n",
        "116\n",
        "118\n",
        "120\n",
        "122\n",
        "124\n",
        "126\n",
        "128\n",
        "130\n",
        "132\n",
        "134\n",
        "136\n",
        "138\n",
        "140\n",
        "142\n",
        "144\n",
        "146\n",
        "148\n",
        "150\n",
        "152\n",
        "154\n",
        "156\n",
        "158\n",
        "160\n",
        "162\n",
        "164\n",
        "166\n",
        "168\n",
        "170\n",
        "172\n",
        "174\n",
        "176\n",
        "178\n",
        "180\n",
        "182\n",
        "184\n",
        "186\n",
        "188\n",
        "190\n",
        "192\n",
        "194\n",
        "196\n",
        "198\n",
        "Sampling 100 children into next generation.\n",
        "Generation 2 Sampling 100 children into next generation.\n",
        "Generation 3 Sampling 100 children into next generation.\n",
        "Generation 4 Sampling 100 children into next generation.\n",
        "Generation 5 Sampling 100 children into next generation.\n",
        "Generation 6 Sampling 100 children into next generation.\n",
        "Generation 7 Sampling 100 children into next generation.\n",
        "Generation 8 Sampling 100 children into next generation.\n",
        "Generation 9 Sampling 100 children into next generation.\n",
        "Sampling 100 children into next generation.\n",
        "Sampling 100 children into next generation.\n",
        "Generation 0 Sampling 100 children into next generation.\n",
        "Generation 1 Sampling 100 children into next generation.\n",
        "Generation 2 Sampling 100 children into next generation.\n",
        "Generation 3 Sampling 100 children into next generation.\n",
        "Generation 4 Sampling 100 children into next generation.\n",
        "Generation 5 Sampling 100 children into next generation.\n",
        "Generation 6 Sampling 100 children into next generation.\n",
        "Generation 7 Sampling 100 children into next generation.\n",
        "Generation 8 Sampling 100 children into next generation.\n",
        "Generation 9 Sampling 100 children into next generation.\n",
        "Generation 0 Sampling 100 children into next generation.\n",
        "Generation 1 Sampling 100 children into next generation.\n",
        "Generation 2 Sampling 100 children into next generation.\n",
        "Generation 3 Sampling 100 children into next generation.\n",
        "Generation 4 Sampling 100 children into next generation.\n",
        "Generation 5 Sampling 100 children into next generation.\n",
        "Generation 6 Sampling 100 children into next generation.\n",
        "Generation 7 Sampling 100 children into next generation.\n",
        "Generation 8 Sampling 100 children into next generation.\n",
        "Generation 9 Sampling 100 children into next generation.\n",
        "DONE\n"
       ]
      }
     ],
     "prompt_number": 4
    }
   ],
   "metadata": {}
  }
 ]
}