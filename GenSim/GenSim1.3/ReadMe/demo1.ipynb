{
 "metadata": {
  "name": "",
  "signature": "sha256:68462b276e19fdea7bfcdd6c5cf01a4e8288baa9a8b974379605165ddd0b04cf"
 },
 "nbformat": 3,
 "nbformat_minor": 0,
 "worksheets": [
  {
   "cells": [
    {
     "cell_type": "heading",
     "level": 4,
     "metadata": {},
     "source": [
      "This file shows several main file demos for different mating structures. "
     ]
    },
    {
     "cell_type": "markdown",
     "metadata": {},
     "source": [
      "**Scenario 1** : random mating for 10 generations for one population"
     ]
    },
    {
     "cell_type": "markdown",
     "metadata": {},
     "source": [
      "> reading real genotypes from files"
     ]
    },
    {
     "cell_type": "code",
     "collapsed": false,
     "input": [
      "%%file main.cpp\n",
      "\n",
      "#include <iostream>\n",
      "#include <fstream>\n",
      "#include \"cohort.h\"\n",
      "#include \"tools.h\"\n",
      "#include \"simPop.h\"\n",
      "#include \"global.h\"\n",
      "#include \"parmMap.h\"\n",
      "\n",
      "int main(int argc, const char * argv[])\n",
      "{   \n",
      "    ///user-defined parameters and map positions\n",
      "    unsigned popSize =  10;\n",
      "    unsigned nGen    =  10;\n",
      "  \n",
      "    string path=\"/Users/erxingfangshui/Dropbox/GenSim/GenSim1.3/data/\";\n",
      "    string genomeFile=path+\"genomeInfo.txt\";\n",
      "    string mapFile=path+\"mapPos.txt\";\n",
      "    string haplotype=path+\"haplotype.txt\";\n",
      "    \n",
      "    SimPop osim(genomeFile,mapFile);\n",
      "    osim.popFounders(popSize,haplotype);\n",
      "    \n",
      "    osim.popSample(popSize,nGen);\n",
      "    MatrixXf out;\n",
      "    out=osim.getGenotypes();\n",
      "    ofstream outFile(path+\"genotype.txt\");\n",
      "    outFile << out;\n",
      "    \n",
      "    return 0;\n",
      "\n",
      "}"
     ],
     "language": "python",
     "metadata": {},
     "outputs": []
    },
    {
     "cell_type": "markdown",
     "metadata": {},
     "source": [
      "> randomly generate genotypes"
     ]
    },
    {
     "cell_type": "code",
     "collapsed": false,
     "input": [
      "%%file main.cpp\n",
      "\n",
      "#include <iostream>\n",
      "#include <fstream>\n",
      "#include \"cohort.h\"\n",
      "#include \"tools.h\"\n",
      "#include \"simPop.h\"\n",
      "#include \"global.h\"\n",
      "#include \"parmMap.h\"\n",
      "\n",
      "int main(int argc, const char * argv[])\n",
      "{   \n",
      "\n",
      "    ///constant nLoci, chrLength and random map positions\n",
      "    unsigned nLoci   =  100;\n",
      "    unsigned nChrm   =  1;\n",
      "    double chrLength =  0.01;\n",
      "    unsigned popSize =  100;\n",
      "    unsigned nGen    =  10;\n",
      "    double   mutRate =  1e-5;\n",
      "    \n",
      "    SimPop osim(nChrm,nLoci,chrLength,mutRate);\n",
      "    osim.popFounders(popSize);\n",
      "    osim.popSample(popSize,nGen);\n",
      "    MatrixXf out;\n",
      "    out=osim.getGenotypes();\n",
      "    ofstream outFile(\"genotype.example\");\n",
      "    outFile << out;\n",
      "    cout<<\"DONE\"<<endl;\n",
      "    \n",
      "    return 0;\n",
      "\n",
      "}"
     ],
     "language": "python",
     "metadata": {},
     "outputs": []
    },
    {
     "cell_type": "code",
     "collapsed": false,
     "input": [
      "%%file  makeGenSim\n",
      "#############################################################################\n",
      "# Makefile for building: OSim\n",
      "\n",
      "myPath = /Users/erxingfangshui/Dropbox/CODE\n",
      "INCPATH = -I $(myPath)/eigen3 -I $(myPath)/boost\n",
      "\n",
      "GenSim:\tmain.o libGenSim.a\n",
      "\tg++ -o GenSim main.o libGenSim.a \n",
      "\n",
      "main.o: main.cpp \n",
      "\tg++ $(INCPATH) -c -o main.o main.cpp\n",
      "\n",
      "clean:\n",
      "\t\\rm main.o GenSim"
     ],
     "language": "python",
     "metadata": {},
     "outputs": []
    },
    {
     "cell_type": "code",
     "collapsed": false,
     "input": [
      "%%bash\n",
      "path=/Users/erxingfangshui/Dropbox/GenSim/GenSim1.3\n",
      "mv makeGenSim $path\n",
      "mv main.cpp $path\n",
      "\n",
      "cd $path\n",
      "make -f makeGenSim "
     ],
     "language": "python",
     "metadata": {},
     "outputs": []
    },
    {
     "cell_type": "code",
     "collapsed": false,
     "input": [
      "%%bash\n",
      "path=/Users/erxingfangshui/Dropbox/GenSim/GenSim1.3\n",
      "cd $path\n",
      "./GenSim"
     ],
     "language": "python",
     "metadata": {},
     "outputs": []
    }
   ],
   "metadata": {}
  }
 ]
}